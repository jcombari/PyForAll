{
 "cells": [
  {
   "cell_type": "markdown",
   "id": "6b1cbc7a-2190-4bbc-96a1-b1f1d8f9cd9c",
   "metadata": {},
   "source": [
    "# 🐼 Python-Pandas: Unlocking the Power of explode()\n",
    "\n",
    "🔍 Have you ever struggled with nested data in Python?  \n",
    "Working with APIs or JSON datasets often means dealing with nested lists that are hard to analyze. This is where the magic of **explode()** comes into play!\n",
    "\n",
    "## 🤔 What does explode() do?\n",
    "This Pandas gem takes a column with lists and splits them into multiple rows, transforming complex data into a clean tabular format. It’s like turning chaos into clarity.\n",
    "\n",
    "## 🌟 Real-world impact:\n",
    "Imagine analyzing product reviews with multiple tags assigned to each review. Using **explode()**, you can break down these tags, count their occurrences, and discover patterns to gain actionable insights.\n",
    "\n",
    "## ✨ Key benefits:\n",
    "- ✂️ Simplifies the analysis of complex datasets.\n",
    "- 📊 Enhances DataFrame clarity and organization.\n",
    "- 🚀 Enables advanced grouping and statistical operations.\n",
    "\n",
    "## 📌 A practical business case:\n",
    "💡 Let’s say an online store has product data with user-assigned tags like 'organic,' 'vegan,' or 'affordable.' By using **explode()**, you can identify the most popular tags and leverage them to refine your marketing strategy.\n",
    "\n",
    "🧠 Have you used **explode()** before? What other Pandas tricks do you rely on daily?  \n",
    "🌐 Share this with your colleagues, and feel free to drop your ideas in the comments. Let’s grow together on this data journey!\n",
    "\n",
    "📈 **#PandasExplode** **#PythonForEveryone** **#DataScienceLife** **#DataAnalysis** **#DataDrivenInsights** **#AIForBusiness** **#YoungProfessionals**\n",
    "\n",
    "### [GitHub Repository: PyForAll](https://github.com/jcombari/PyForAll)\n",
    "\n",
    "\n",
    "---\n",
    "\n",
    "# 🐼 Python-Pandas: Desentrañando el poder de explode()\n",
    "\n",
    "🔍 ¿Has tenido que trabajar con datos anidados y no sabías cómo manejarlos en Python?  \n",
    "A menudo, nos encontramos con datasets provenientes de APIs o formatos JSON que contienen listas anidadas difíciles de analizar. ¡Aquí es donde **explode()** entra en acción!\n",
    "\n",
    "## 🤔 ¿Qué hace explode()?\n",
    "Este comando mágico de Pandas toma una columna con listas y la transforma en múltiples filas, creando un formato tabular limpio y manejable. Es como convertir un rompecabezas en una solución clara.\n",
    "\n",
    "## 🌟 Impacto en el mundo real:\n",
    "Imagina que estás analizando datos de reseñas de productos con varias etiquetas asignadas a cada reseña. Con **explode()**, puedes descomponer estas etiquetas para contar su frecuencia, encontrar patrones y extraer insights útiles para el negocio.\n",
    "\n",
    "## ✨ Beneficios clave:\n",
    "- ✂️ Simplifica el análisis de datos complejos.\n",
    "- 📊 Mejora la claridad y organización de tu DataFrame.\n",
    "- 🚀 Facilita tareas como agrupamiento y estadísticas avanzadas.\n",
    "\n",
    "## 📌 Un caso de negocio práctico:\n",
    "💡 Supongamos que una tienda online tiene datos de productos y etiquetas asignadas por usuarios (como 'orgánico', 'vegano', 'económico'). Utilizando **explode()**, puedes identificar las etiquetas más populares y usarlas para mejorar tu estrategia de marketing.\n",
    "\n",
    "🧠 ¿Ya usaste **explode()**? ¿Qué otros trucos de Pandas utilizas en tu día a día?  \n",
    "🌐 Compártelo con tus colegas y no olvides dejar tus ideas en los comentarios. ¡Sigamos creciendo juntos en esta aventura de datos!\n",
    "\n",
    "📈 **#PandasExplode** **#PythonParaTodos** **#DataScienceLife** **#AnalisisDeDatos** **#CienciaDeDatos** **#AIParaNegocios** **#JovenesProfesionales** **#DataDriven**\n",
    "\n",
    "### [Repositorio GitHub: PyForAll](https://github.com/jcombari/PyForAll)"
   ]
  },
  {
   "cell_type": "code",
   "execution_count": 1,
   "id": "d49d759e",
   "metadata": {},
   "outputs": [
    {
     "name": "stdout",
     "output_type": "stream",
     "text": [
      "Original DataFrame:\n",
      "   Product_ID Product_Name                   Tags\n",
      "0         101      Shampoo       [organic, vegan]\n",
      "1         102  Conditioner  [vegan, eco-friendly]\n",
      "2         103     Hair Oil  [organic, affordable]\n",
      "\n",
      "Transformed DataFrame using explode():\n",
      "   Product_ID Product_Name          Tags\n",
      "0         101      Shampoo       organic\n",
      "0         101      Shampoo         vegan\n",
      "1         102  Conditioner         vegan\n",
      "1         102  Conditioner  eco-friendly\n",
      "2         103     Hair Oil       organic\n",
      "2         103     Hair Oil    affordable\n",
      "\n",
      "Tag Frequency:\n",
      "           Tags  Count\n",
      "2       organic      2\n",
      "3         vegan      2\n",
      "0    affordable      1\n",
      "1  eco-friendly      1\n"
     ]
    },
    {
     "data": {
      "image/png": "[encoded data removed]",
      "text/plain": [
       "<Figure size 576x432 with 1 Axes>"
      ]
     },
     "metadata": {
      "needs_background": "light"
     },
     "output_type": "display_data"
    }
   ],
   "source": [
    "# Importing necessary libraries\n",
    "import pandas as pd\n",
    "import matplotlib.pyplot as plt\n",
    "\n",
    "# Sample dataset: Product reviews with user-assigned tags\n",
    "data = {\n",
    "    'Product_ID': [101, 102, 103],\n",
    "    'Product_Name': ['Shampoo', 'Conditioner', 'Hair Oil'],\n",
    "    'Tags': [['organic', 'vegan'], ['vegan', 'eco-friendly'], ['organic', 'affordable']]\n",
    "}\n",
    "\n",
    "# Creating a DataFrame\n",
    "df = pd.DataFrame(data)\n",
    "\n",
    "# Display the original DataFrame\n",
    "print(\"Original DataFrame:\")\n",
    "print(df)\n",
    "\n",
    "# Using explode() to transform the 'Tags' column\n",
    "df_exploded = df.explode('Tags')\n",
    "\n",
    "# Display the transformed DataFrame\n",
    "print(\"\\nTransformed DataFrame using explode():\")\n",
    "print(df_exploded)\n",
    "\n",
    "# Grouping by Tags to count occurrences\n",
    "tag_counts = df_exploded.groupby('Tags')['Product_ID'].count().reset_index(name='Count')\n",
    "\n",
    "# Sorting tags by count\n",
    "tag_counts_sorted = tag_counts.sort_values(by='Count', ascending=False)\n",
    "\n",
    "# Display the tag frequency\n",
    "print(\"\\nTag Frequency:\")\n",
    "print(tag_counts_sorted)\n",
    "\n",
    "# Visualizing the tag frequency\n",
    "plt.figure(figsize=(8, 6))\n",
    "plt.bar(tag_counts_sorted['Tags'], tag_counts_sorted['Count'], color='skyblue')\n",
    "plt.title('Tag Frequency', fontsize=16)\n",
    "plt.xlabel('Tags', fontsize=14)\n",
    "plt.ylabel('Count', fontsize=14)\n",
    "plt.xticks(rotation=45)\n",
    "plt.tight_layout()\n",
    "plt.show()\n"
   ]
  }
 ],
 "metadata": {
  "kernelspec": {
   "display_name": "Python 3 (ipykernel)",
   "language": "python",
   "name": "python3"
  },
  "language_info": {
   "codemirror_mode": {
    "name": "ipython",
    "version": 3
   },
   "file_extension": ".py",
   "mimetype": "text/x-python",
   "name": "python",
   "nbconvert_exporter": "python",
   "pygments_lexer": "ipython3",
   "version": "3.12.3"
  }
 },
 "nbformat": 4,
 "nbformat_minor": 5
}
