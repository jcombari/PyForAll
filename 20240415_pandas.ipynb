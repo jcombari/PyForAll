{
 "cells": [
  {
   "cell_type": "code",
   "execution_count": 1,
   "id": "bcf17b2d",
   "metadata": {},
   "outputs": [
    {
     "name": "stdout",
     "output_type": "stream",
     "text": [
      "      age_group   class  survived\n",
      "0         Child   First  0.875000\n",
      "1         Child  Second  0.793103\n",
      "2         Child   Third  0.351064\n",
      "3   Young Adult   First  0.757576\n",
      "4   Young Adult  Second  0.436170\n",
      "5   Young Adult   Third  0.232323\n",
      "6         Adult   First  0.611111\n",
      "7         Adult  Second  0.382979\n",
      "8         Adult   Third  0.086207\n",
      "9        Senior   First  0.214286\n",
      "10       Senior  Second  0.333333\n",
      "11       Senior   Third  0.200000\n",
      "    survived  pclass     sex   age  sibsp  parch      fare embarked   class  \\\n",
      "3          1       1  female  35.0      1      0   53.1000        S   First   \n",
      "27         0       1    male  19.0      3      2  263.0000        S   First   \n",
      "34         0       1    male  28.0      1      0   82.1708        C   First   \n",
      "72         0       2    male  21.0      0      0   73.5000        S  Second   \n",
      "74         1       3    male  32.0      0      0   56.4958        S   Third   \n",
      "\n",
      "      who  adult_male deck  embark_town alive  alone    age_group  \n",
      "3   woman       False    C  Southampton   yes  False  Young Adult  \n",
      "27    man        True    C  Southampton    no  False  Young Adult  \n",
      "34    man        True  NaN    Cherbourg    no  False  Young Adult  \n",
      "72    man        True  NaN  Southampton    no   True  Young Adult  \n",
      "74    man        True  NaN  Southampton   yes   True  Young Adult  \n",
      "             mean       max    min\n",
      "class                             \n",
      "First   53.349332  512.3292  0.000\n",
      "Second  13.001864   73.5000  2.875\n",
      "Third    7.751575   56.4958  0.000\n",
      "age_group           Child  Young Adult     Adult    Senior\n",
      "sex    embarked                                           \n",
      "female C         0.800000     1.000000  0.904762       NaN\n",
      "       Q         0.750000     0.571429  0.000000       NaN\n",
      "       S         0.613636     0.752688  0.723404  1.000000\n",
      "male   C         0.500000     0.342105  0.350000  0.000000\n",
      "       Q         0.000000     0.166667  0.000000  0.000000\n",
      "       S         0.338983     0.149485  0.168317  0.142857\n"
     ]
    }
   ],
   "source": [
    "# Import necessary libraries\n",
    "import pandas as pd\n",
    "import seaborn as sns\n",
    "\n",
    "# Load the Titanic dataset from seaborn\n",
    "titanic = sns.load_dataset('titanic')\n",
    "\n",
    "# Drop rows with missing values to ensure data integrity\n",
    "titanic.dropna(subset=['age', 'fare'], inplace=True)\n",
    "\n",
    "# Create a new column 'age_group' for segmentation\n",
    "titanic['age_group'] = pd.cut(titanic['age'], bins=[0, 18, 35, 60, 100], labels=['Child', 'Young Adult', 'Adult', 'Senior'])\n",
    "\n",
    "# Example 1: Using groupby to calculate survival rates by age group and class\n",
    "grouped_data = titanic.groupby(['age_group', 'class'])['survived'].mean().reset_index()\n",
    "\n",
    "# Example 2: Optimizing filtering with query\n",
    "filtered_data = titanic.query(\"fare > 50 and age_group == 'Young Adult'\")\n",
    "\n",
    "# Example 3: Combining eval and groupby for complex calculations\n",
    "titanic.eval(\"fare_per_person = fare / (1 + sibsp + parch)\", inplace=True)\n",
    "fare_stats = titanic.groupby('class')['fare_per_person'].agg(['mean', 'max', 'min'])\n",
    "\n",
    "# Example 4: Nested groupby to find survival rates across multiple categories\n",
    "nested_grouped = titanic.groupby(['sex', 'embarked', 'age_group'])['survived'].mean().unstack()\n",
    "\n",
    "# Display results for validation\n",
    "print(grouped_data)\n",
    "print(filtered_data.head())\n",
    "print(fare_stats)\n",
    "print(nested_grouped)\n"
   ]
  }
 ],
 "metadata": {
  "kernelspec": {
   "display_name": "Python 3 (ipykernel)",
   "language": "python",
   "name": "python3"
  },
  "language_info": {
   "codemirror_mode": {
    "name": "ipython",
    "version": 3
   },
   "file_extension": ".py",
   "mimetype": "text/x-python",
   "name": "python",
   "nbconvert_exporter": "python",
   "pygments_lexer": "ipython3",
   "version": "3.9.7"
  }
 },
 "nbformat": 4,
 "nbformat_minor": 5
}
