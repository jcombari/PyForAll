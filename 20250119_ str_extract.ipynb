{
 "cells": [
  {
   "cell_type": "markdown",
   "id": "d0be8d10-9e0e-4b02-905a-3961a79ff36a",
   "metadata": {},
   "source": [
    "# 🌟 🐍🐼 Python-Pandas: Transform text into gold with extract and expand!\n",
    "\n",
    "### ❓ Have you ever wondered how to turn messy text into structured, actionable data? 🤔\n",
    "In data science, we often encounter text columns full of information but difficult to use as-is. How can we make them useful? Enter Pandas’ `str.extract`, which uses regular expressions to unlock complex patterns. 🔍\n",
    "\n",
    "### ✨ Real-world example:\n",
    "Imagine an e-commerce business with a \"User Comments\" column containing usernames and posting dates. Extracting these can help you:\n",
    "- 🚀 Personalize marketing campaigns.\n",
    "- 📅 Analyze shopping trends over time.\n",
    "\n",
    "### 🔧 How does it work?\n",
    "🧩 `str.extract` captures specific text patterns (like dates or names) using regular expressions.\n",
    "🛠️ Combine it with `expand=True` to structure the data into new columns ready for analysis.\n",
    "\n",
    "### 🌟 Business Impact:\n",
    "- 👉 Process unstructured data to uncover actionable insights.\n",
    "- 👉 Automate data cleaning, saving hours of work.\n",
    "\n",
    "🎨 You can also visualize how the data changes after applying this technique. Graphs are a powerful way to communicate findings!\n",
    "\n",
    "### 🤔 What opportunities do you see in your text data?\n",
    "👇 Share your thoughts in the comments and follow me for more Python, Pandas, and data science tips.\n",
    "🧠💻🌍🤖\n",
    "\n",
    "#Python #Pandas #DataScience #MachineLearning #AI #GenerativeAI #DataAnalysis #BusinessInsights #TechAccessibility\n",
    "\n",
    "---\n",
    "\n",
    "# 🌟 🐍🐼 Python-Pandas: ¡Transforma texto en oro con extract y expand!\n",
    "\n",
    "### ❓ ¿Alguna vez te has preguntado cómo convertir cadenas de texto desordenadas en datos organizados y útiles? 🤔\n",
    "En el mundo de los datos, lidiamos con columnas de texto llenas de información, pero a menudo difícil de usar directamente. ¿Cómo podemos aprovecharlas? Aquí entra en acción `str.extract` de Pandas, que utiliza expresiones regulares para desentrañar patrones complejos. 🔍\n",
    "\n",
    "### ✨ Ejemplo real:\n",
    "Imagina un negocio de comercio electrónico con una columna de \"Comentarios de usuarios\" que incluye nombres de usuarios y fechas de publicación. Extraer estos datos puede ayudarte a:\n",
    "- 🚀 Personalizar campañas de marketing.\n",
    "- 📅 Analizar tendencias de compras por períodos.\n",
    "\n",
    "### 🔧 ¿Cómo funciona?\n",
    "🧩 `str.extract` permite capturar patrones específicos de texto (como fechas o nombres) utilizando expresiones regulares.\n",
    "🛠️ Combina `expand=True` para estructurar los datos en nuevas columnas listas para análisis.\n",
    "\n",
    "### 🌟 Impacto en el negocio:\n",
    "- 👉 Procesa datos no estructurados para obtener insights accionables.\n",
    "- 👉 Automatiza la limpieza de datos, ahorrando horas de trabajo.\n",
    "  \n",
    "🎨 Además, puedes visualizar cómo los datos evolucionan después de aplicar esta técnica. ¡Los gráficos son una forma poderosa de comunicar hallazgos!\n",
    "\n",
    "### 🤔 ¿Qué oportunidades ves en tus datos de texto?\n",
    "👇 Deja tu opinión en los comentarios y sígueme para más tips sobre Python, Pandas y ciencia de datos.\n",
    "🧠💻🌍🤖\n",
    "\n",
    "#Python #Pandas #DataScience #MachineLearning #AI #GenerativeAI #DataAnalysis #BusinessInsights #TechAccessibility\n"
   ]
  },
  {
   "cell_type": "code",
   "execution_count": 1,
   "id": "30921fb6-5bbc-45f9-a637-7223939b42ae",
   "metadata": {},
   "outputs": [
    {
     "name": "stdout",
     "output_type": "stream",
     "text": [
      "Transformed DataFrame:\n",
      "                            User_Comments Username        Date\n",
      "0  Alice [2023-05-01]: Loved the product!    Alice  2023-05-01\n",
      "1        Bob [2023-05-02]: Great service!      Bob  2023-05-02\n",
      "2    Charlie [2023-05-03]: Fast delivery!  Charlie  2023-05-03\n"
     ]
    },
    {
     "data": {
      "image/png": "[encoded data removed]",
      "text/plain": [
       "<Figure size 576x360 with 1 Axes>"
      ]
     },
     "metadata": {
      "needs_background": "light"
     },
     "output_type": "display_data"
    }
   ],
   "source": [
    "import pandas as pd\n",
    "import matplotlib.pyplot as plt\n",
    "\n",
    "# Sample dataset creation\n",
    "# Includes a column with mixed text data containing usernames and dates\n",
    "data = {\n",
    "    \"User_Comments\": [\n",
    "        \"Alice [2023-05-01]: Loved the product!\",\n",
    "        \"Bob [2023-05-02]: Great service!\",\n",
    "        \"Charlie [2023-05-03]: Fast delivery!\",\n",
    "    ]\n",
    "}\n",
    "\n",
    "# Convert the dictionary into a Pandas DataFrame\n",
    "df = pd.DataFrame(data)\n",
    "\n",
    "# Use `str.extract` to separate usernames and dates from the text\n",
    "# Regular expression explanation:\n",
    "# (.*?): Captures anything until the first '['\n",
    "# \\[([\\d-]+)\\]: Captures the date format 'YYYY-MM-DD'\n",
    "df[['Username', 'Date']] = df['User_Comments'].str.extract(r\"(.*) \\[([\\d-]+)\\]:\")\n",
    "\n",
    "# Display the transformed DataFrame\n",
    "print(\"Transformed DataFrame:\")\n",
    "print(df)\n",
    "\n",
    "# Create a bar plot to visualize comment counts by date\n",
    "comment_counts = df['Date'].value_counts().sort_index()\n",
    "\n",
    "plt.figure(figsize=(8, 5))\n",
    "comment_counts.plot(kind='bar', color='skyblue')\n",
    "plt.title(\"Number of Comments by Date\")\n",
    "plt.xlabel(\"Date\")\n",
    "plt.ylabel(\"Comment Count\")\n",
    "plt.xticks(rotation=45)\n",
    "plt.tight_layout()\n",
    "plt.show()\n"
   ]
  }
 ],
 "metadata": {
  "kernelspec": {
   "display_name": "Python [conda env:.conda-project]",
   "language": "python",
   "name": "conda-env-.conda-project-py"
  },
  "language_info": {
   "codemirror_mode": {
    "name": "ipython",
    "version": 3
   },
   "file_extension": ".py",
   "mimetype": "text/x-python",
   "name": "python",
   "nbconvert_exporter": "python",
   "pygments_lexer": "ipython3",
   "version": "3.10.0"
  }
 },
 "nbformat": 4,
 "nbformat_minor": 5
}
