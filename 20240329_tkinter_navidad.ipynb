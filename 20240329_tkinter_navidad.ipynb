{
 "cells": [
  {
   "cell_type": "code",
   "execution_count": 1,
   "id": "75117539",
   "metadata": {},
   "outputs": [],
   "source": [
    "import tkinter as tk\n",
    "import random\n",
    "\n",
    "# Function to animate snowflakes and the tree\n",
    "def animate():\n",
    "    # Move snowflakes\n",
    "    for flake in snowflakes:\n",
    "        canvas.move(flake, 0, 5)  # Move down\n",
    "        coords = canvas.coords(flake)\n",
    "        if coords[1] > height:  # Reset position when out of bounds\n",
    "            x = random.randint(0, width - 5)\n",
    "            canvas.coords(flake, x, -10, x + 5, -5)  # Ensure it's always a small circle\n",
    "    \n",
    "    # Move the Christmas tree\n",
    "    global tree_dx\n",
    "    canvas.move(tree, tree_dx, 0)\n",
    "    tree_coords = canvas.coords(tree)\n",
    "    x_coords = [tree_coords[i] for i in range(0, len(tree_coords), 2)]  # Extract x-coordinates\n",
    "    if max(x_coords) > width or min(x_coords) < 0:  # Change direction if hitting the window edge\n",
    "        tree_dx = -tree_dx\n",
    "    \n",
    "    # Repeat animation\n",
    "    root.after(50, animate)\n",
    "\n",
    "# Function to create snowflakes\n",
    "def create_snowflakes():\n",
    "    for _ in range(100):  # Create 100 snowflakes\n",
    "        x = random.randint(0, width - 5)\n",
    "        y = random.randint(0, height - 5)\n",
    "        snowflake = canvas.create_oval(x, y, x + 5, y + 5, fill=\"white\", outline=\"white\")  # Snowflake as a small circle\n",
    "        snowflakes.append(snowflake)\n",
    "\n",
    "# Window settings\n",
    "root = tk.Tk()\n",
    "root.title(\"Christmas Window\")\n",
    "width, height = 800, 600\n",
    "root.geometry(f\"{width}x{height}\")\n",
    "root.configure(bg=\"#c51217\")  # Christmas red background\n",
    "\n",
    "# Canvas for drawing\n",
    "canvas = tk.Canvas(root, width=width, height=height, bg=\"#c51217\", highlightthickness=0)\n",
    "canvas.pack()\n",
    "\n",
    "# Add festive text\n",
    "canvas.create_text(width // 2, 50, text=\"Merry Christmas 🎄\", font=(\"Helvetica\", 24, \"bold\"), fill=\"#ffffff\")\n",
    "canvas.create_text(width // 2, 90, text=\"Making technology accessible for all 🌍\", font=(\"Helvetica\", 16), fill=\"#ffffff\")\n",
    "# Split festive message into three lines\n",
    "canvas.create_text(width // 2, height - 105, text=\"Happy coding 😊\", font=(\"Helvetica\", 30), fill=\"#ffd700\")  # Line 1\n",
    "canvas.create_text(width // 2, height - 70, text=\"and\", font=(\"Helvetica\", 30), fill=\"#ffd700\")             # Line 2\n",
    "canvas.create_text(width // 2, height - 30, text=\"happy holidays! 🎄\", font=(\"Helvetica\", 30), fill=\"#ffd700\")  # Line 3\n",
    "\n",
    "# Create a larger moving Christmas tree (triangle shape)\n",
    "tree = canvas.create_polygon(\n",
    "    275, 450,  # Bottom left of tree\n",
    "    400, 150,  # Top of tree (tip)\n",
    "    525, 450,  # Bottom right of tree\n",
    "    fill=\"#497a4e\", outline=\"#ffffff\"\n",
    ")  # 5 times larger triangle\n",
    "tree_dx = 5  # Movement speed of the tree\n",
    "\n",
    "# Snowflake list\n",
    "snowflakes = []\n",
    "create_snowflakes()\n",
    "\n",
    "# Start animation\n",
    "animate()\n",
    "\n",
    "# Run the Tkinter event loop\n",
    "root.mainloop()\n"
   ]
  },
  {
   "cell_type": "code",
   "execution_count": 2,
   "id": "9e6cbeb9",
   "metadata": {},
   "outputs": [
    {
     "name": "stdout",
     "output_type": "stream",
     "text": [
      "MoviePy - Building file 18_tkinter_navidad.gif with imageio.\n"
     ]
    },
    {
     "name": "stderr",
     "output_type": "stream",
     "text": [
      "                                                                                                                       \r"
     ]
    }
   ],
   "source": [
    "from moviepy.editor import VideoFileClip\n",
    "\n",
    "# Cargar el archivo MP4\n",
    "video = VideoFileClip(\"18_tkinter_navidad.mp4\")\n",
    "\n",
    "# Convertir el video a GIF\n",
    "video.write_gif(\"18_tkinter_navidad.gif\", fps=15)"
   ]
  },
  {
   "cell_type": "code",
   "execution_count": 4,
   "id": "ea6fa3ff",
   "metadata": {},
   "outputs": [
    {
     "name": "stdout",
     "output_type": "stream",
     "text": [
      "MoviePy - Building file 18_tkinter_navidad.mp4.gif with imageio.\n"
     ]
    },
    {
     "name": "stderr",
     "output_type": "stream",
     "text": [
      "                                                                                                                       \r"
     ]
    }
   ],
   "source": [
    "from moviepy.editor import VideoFileClip\n",
    "\n",
    "# Cargar el archivo MP4\n",
    "video = VideoFileClip(\"18_tkinter_navidad.mp4\")\n",
    "\n",
    "# Eliminar bordes negros (recorte automático del video)\n",
    "video_no_black = video.crop(x1=0, y1=0, x2=video.size[0]-200, y2=video.size[1]-150)\n",
    "\n",
    "# Convertir el video recortado a GIF\n",
    "video_no_black.write_gif(\"18_tkinter_navidad.mp4.gif\", fps=50)\n"
   ]
  },
  {
   "cell_type": "markdown",
   "id": "94b5d146",
   "metadata": {},
   "source": [
    "# Código para recortar el marco negro directamente del video .mp4:"
   ]
  },
  {
   "cell_type": "code",
   "execution_count": 5,
   "id": "5bf5f1bc",
   "metadata": {},
   "outputs": [
    {
     "name": "stdout",
     "output_type": "stream",
     "text": [
      "Moviepy - Building video 18_tkinter_navidad_def.mp4.\n",
      "Moviepy - Writing video 18_tkinter_navidad_def.mp4\n",
      "\n"
     ]
    },
    {
     "name": "stderr",
     "output_type": "stream",
     "text": [
      "                                                                                                                       \r"
     ]
    },
    {
     "name": "stdout",
     "output_type": "stream",
     "text": [
      "Moviepy - Done !\n",
      "Moviepy - video ready 18_tkinter_navidad_def.mp4\n"
     ]
    }
   ],
   "source": [
    "from moviepy.editor import VideoFileClip\n",
    "\n",
    "# Cargar el archivo MP4\n",
    "video = VideoFileClip(\"18_tkinter_navidad.mp4\")\n",
    "\n",
    "# Recortar el video para eliminar el marco negro\n",
    "# Ajusta las coordenadas x1, y1, x2, y2 según sea necesario\n",
    "video_no_black = video.crop(x1=0, y1=0, x2=video.size[0]-200, y2=video.size[1]-150)\n",
    "\n",
    "# Guardar el video recortado en un nuevo archivo MP4\n",
    "video_no_black.write_videofile(\"18_tkinter_navidad_def.mp4\", codec=\"libx264\", audio_codec=\"aac\")"
   ]
  }
 ],
 "metadata": {
  "kernelspec": {
   "display_name": "Python 3 (ipykernel)",
   "language": "python",
   "name": "python3"
  },
  "language_info": {
   "codemirror_mode": {
    "name": "ipython",
    "version": 3
   },
   "file_extension": ".py",
   "mimetype": "text/x-python",
   "name": "python",
   "nbconvert_exporter": "python",
   "pygments_lexer": "ipython3",
   "version": "3.9.7"
  }
 },
 "nbformat": 4,
 "nbformat_minor": 5
}
