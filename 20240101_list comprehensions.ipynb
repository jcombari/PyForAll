{
 "cells": [
  {
   "cell_type": "markdown",
   "id": "723a2963",
   "metadata": {},
   "source": [
    "Did you know you can make your code faster and cleaner with a simple technique? 🤔💡\n",
    "\n",
    "If you're a programmer or working with data, you’ve probably faced the challenge of optimizing your code. And this is where Python’s list comprehensions come to the rescue! 🚀\n",
    "\n",
    "This technique is not just a compact way to write code; it allows you to process large datasets more efficiently. With list comprehensions, you can transform data faster and cleaner compared to traditional loops, which is crucial when working with big datasets.\n",
    "\n",
    "Practical Example:\n",
    "Imagine you have a list of numbers and you need to get the square of each. You can do it easily with a list comprehension. Check out the example here 👇:"
   ]
  },
  {
   "cell_type": "code",
   "execution_count": 1,
   "id": "217d9782",
   "metadata": {},
   "outputs": [],
   "source": [
    "# Input data: a list of numbers\n",
    "numbers = [1, 2, 3, 4, 5]"
   ]
  },
  {
   "cell_type": "code",
   "execution_count": 2,
   "id": "e26efcea",
   "metadata": {},
   "outputs": [
    {
     "name": "stdout",
     "output_type": "stream",
     "text": [
      "[1, 4, 9, 16, 25]\n"
     ]
    }
   ],
   "source": [
    "# Tradicional:\n",
    "squares = []\n",
    "for num in numbers:\n",
    "    squares.append(num**2)\n",
    "print(squares)"
   ]
  },
  {
   "cell_type": "code",
   "execution_count": 3,
   "id": "b43fe397",
   "metadata": {},
   "outputs": [
    {
     "name": "stdout",
     "output_type": "stream",
     "text": [
      "[1, 4, 9, 16, 25]\n"
     ]
    }
   ],
   "source": [
    "# List comprehension:\n",
    "squares = [num**2 for num in numbers]\n",
    "print(squares)"
   ]
  },
  {
   "cell_type": "code",
   "execution_count": null,
   "id": "3111591b",
   "metadata": {},
   "outputs": [],
   "source": []
  },
  {
   "cell_type": "code",
   "execution_count": null,
   "id": "29caf25b",
   "metadata": {},
   "outputs": [],
   "source": []
  },
  {
   "cell_type": "code",
   "execution_count": 4,
   "id": "f3408535",
   "metadata": {},
   "outputs": [],
   "source": [
    "# List comprehension: calculating the squares of numbers\n",
    "squares = [num**2 for num in numbers]  # One line to get the list of squares"
   ]
  },
  {
   "cell_type": "code",
   "execution_count": 5,
   "id": "2aa66f0f",
   "metadata": {},
   "outputs": [
    {
     "name": "stdout",
     "output_type": "stream",
     "text": [
      "[1, 4, 9, 16, 25]\n"
     ]
    }
   ],
   "source": [
    "# Print the result\n",
    "print(squares)  # Expected output: [1, 4, 9, 16, 25]"
   ]
  }
 ],
 "metadata": {
  "kernelspec": {
   "display_name": "Python 3 (ipykernel)",
   "language": "python",
   "name": "python3"
  },
  "language_info": {
   "codemirror_mode": {
    "name": "ipython",
    "version": 3
   },
   "file_extension": ".py",
   "mimetype": "text/x-python",
   "name": "python",
   "nbconvert_exporter": "python",
   "pygments_lexer": "ipython3",
   "version": "3.9.7"
  }
 },
 "nbformat": 4,
 "nbformat_minor": 5
}
