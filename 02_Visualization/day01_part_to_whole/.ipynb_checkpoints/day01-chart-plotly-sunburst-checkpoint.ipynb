{
 "cells": [
  {
   "cell_type": "code",
   "execution_count": null,
   "metadata": {
    "_cell_guid": "b1076dfc-b9ad-4769-8c92-a6c4dae69d19",
    "_uuid": "8f2839f25d086af736a60e9eeb907d3b93b6e0e5"
   },
   "outputs": [],
   "source": [
    "import numpy as np # linear algebra\n",
    "import pandas as pd # data processing, CSV file I/O (e.g. pd.read_csv)\n",
    "import plotly.express as px"
   ]
  },
  {
   "cell_type": "code",
   "execution_count": null,
   "metadata": {},
   "outputs": [],
   "source": [
    "!pip install -U kaleido"
   ]
  },
  {
   "cell_type": "code",
   "execution_count": null,
   "metadata": {},
   "outputs": [],
   "source": [
    "# px.data.gapminder() is a built-in Plotly Express sample database\n",
    "df = px.data.gapminder().query(\"year == 2007\")\n",
    "df"
   ]
  },
  {
   "cell_type": "code",
   "execution_count": null,
   "metadata": {},
   "outputs": [],
   "source": [
    "fig = px.sunburst(df, path=['continent', 'country'], values='pop',\n",
    "                  color='lifeExp', hover_data=['iso_alpha'],\n",
    "                  color_continuous_scale='RdBu',\n",
    "                  color_continuous_midpoint=np.average(df['lifeExp'], weights=df['pop']))\n",
    "# If a color argument is passed, the color of a node is computed as \n",
    "# the average of the color values of its children, weighted by their values.\n",
    "fig.show()"
   ]
  },
  {
   "cell_type": "code",
   "execution_count": null,
   "metadata": {},
   "outputs": [],
   "source": [
    "# Get the country & continent database ready\n",
    "df2 = df[['country','continent']].copy()"
   ]
  },
  {
   "cell_type": "code",
   "execution_count": null,
   "metadata": {},
   "outputs": [],
   "source": [
    "#change all the “Americas” to \"South America\" in the continent column.\n",
    "df2.loc[df2[\"continent\"] == \"Americas\", \"continent\"] = \"South America\""
   ]
  },
  {
   "cell_type": "code",
   "execution_count": null,
   "metadata": {},
   "outputs": [],
   "source": [
    "# if country is Canada, Mexico, or United States change continent to \"North America\"\n",
    "df2.loc[df2['country'] == 'Canada', \"continent\"] = \"North America\"\n",
    "df2.loc[df2['country'] == 'Mexico', \"continent\"] = \"North America\"\n",
    "df2.loc[df2['country'] == 'United States', \"continent\"] = \"North America\""
   ]
  },
  {
   "cell_type": "code",
   "execution_count": null,
   "metadata": {},
   "outputs": [],
   "source": [
    "# selecting rows based on condition\n",
    "df_Canada = df2.loc[df2['country'] == 'Canada']\n",
    "df_Canada"
   ]
  },
  {
   "cell_type": "code",
   "execution_count": null,
   "metadata": {},
   "outputs": [],
   "source": [
    "# selecting rows based on condition\n",
    "df_Mexico = df2.loc[df2['country'] == 'Mexico']\n",
    "df_Mexico"
   ]
  },
  {
   "cell_type": "code",
   "execution_count": null,
   "metadata": {},
   "outputs": [],
   "source": [
    "# selecting rows based on condition\n",
    "df_US = df2.loc[df2['country'] == 'United States']\n",
    "df_US"
   ]
  },
  {
   "cell_type": "code",
   "execution_count": null,
   "metadata": {},
   "outputs": [],
   "source": [
    "dict_num_volcano = {\n",
    "    \"United States\": 161,\n",
    "    \"Japan\": 122,\n",
    "    \"Indonesia\": 121,\n",
    "    \"Russia\": 117,\n",
    "    \"Chile\": 92,\n",
    "    \"Ethiopia\": 53,\n",
    "    \"Papua New Guinea\": 47,\n",
    "    \"Philippines\": 38,\n",
    "    \"Mexico\": 37,\n",
    "    \"Argentina\": 36,\n",
    "    \"Ecuador\": 35,\n",
    "    \"Iceland\": 34,\n",
    "    \"New Zealand\": 25,\n",
    "    \"Canada\": 24,\n",
    "    \"Guatemala\": 23,\n",
    "    \"Tonga\": 21,\n",
    "    \"Kenya\": 21,\n",
    "    \"El Salvador\": 20,\n",
    "    \"France\": 20,\n",
    "    \"Antarctica\": 19\n",
    "}   "
   ]
  },
  {
   "cell_type": "code",
   "execution_count": null,
   "metadata": {},
   "outputs": [],
   "source": [
    "# create Dataframe from a list of key, value pairs\n",
    "df3 = pd.DataFrame(list(dict_num_volcano.items()), columns = ['country','num_volcano'])\n",
    "df3"
   ]
  },
  {
   "cell_type": "code",
   "execution_count": null,
   "metadata": {},
   "outputs": [],
   "source": [
    "# merge inner\n",
    "df4 = pd.merge(left=df2, right=df3, left_on='country', right_on='country')\n",
    "# Since 'country' is the only column name in both dataframes, we can skip\n",
    "# the `left_on` and `right_on` arguments\n",
    "\n",
    "# What's the size of the output data?\n",
    "df4.shape\n",
    "df4"
   ]
  },
  {
   "cell_type": "code",
   "execution_count": null,
   "metadata": {},
   "outputs": [],
   "source": [
    "# df4 is missing 4 countries!  Let's list them\n",
    "set(df3.country).difference(set(df4.country))"
   ]
  },
  {
   "cell_type": "code",
   "execution_count": null,
   "metadata": {},
   "outputs": [],
   "source": [
    "# NOTE: last_id is not len(df2.index), because some rows are missing\n",
    "last_id = max(df2.index)"
   ]
  },
  {
   "cell_type": "code",
   "execution_count": null,
   "metadata": {},
   "outputs": [],
   "source": [
    "# add the missing rows to the end of the table\n",
    "df2.loc[last_id + 1] = ['Antarctica', 'Antarctica'] \n",
    "df2.loc[last_id + 2] = ['Papua New Guinea', 'Oceania']\n",
    "df2.loc[last_id + 3] = ['Russia', 'Europe']   # Russia actually spans Asia too.\n",
    "df2.loc[last_id + 4] = ['Tonga', 'Oceania'] "
   ]
  },
  {
   "cell_type": "code",
   "execution_count": null,
   "metadata": {},
   "outputs": [],
   "source": [
    "df2.tail(10)"
   ]
  },
  {
   "cell_type": "code",
   "execution_count": null,
   "metadata": {},
   "outputs": [],
   "source": [
    "# merge inner\n",
    "df4 = pd.merge(left=df2, right=df3, left_on='country', right_on='country')\n",
    "\n",
    "# What's the size of the output data?\n",
    "df4.shape\n",
    "df4\n"
   ]
  },
  {
   "cell_type": "code",
   "execution_count": null,
   "metadata": {},
   "outputs": [],
   "source": [
    "fig = px.sunburst(df4, path=['continent', 'country'], values='num_volcano',\n",
    "                  title=\"Countries with the most volcanos 🌋(erupting in the last 12,000 years)\")\n",
    "# The volcano emoji will show up in the chart while in Jupyter notebooks.  \n",
    "# However, it will not appear in the exported .png file\n",
    "\n",
    "fig.update_layout(\n",
    "    title_font_family=\"Times New Roman\",\n",
    "    title_font_color=\"red\",\n",
    "    title_x=0.5\n",
    ")\n",
    "\n",
    "# If a color argument is passed, the color of a node is computed as \n",
    "# the average of the color values of its children, weighted by their values.\n",
    "fig.show()"
   ]
  },
  {
   "cell_type": "code",
   "execution_count": null,
   "metadata": {},
   "outputs": [],
   "source": [
    "fig.write_image(\"/kaggle/working/fig1.png\")"
   ]
  },
  {
   "cell_type": "code",
   "execution_count": null,
   "metadata": {},
   "outputs": [],
   "source": []
  }
 ],
 "metadata": {
  "kernelspec": {
   "display_name": "Python 3 (ipykernel)",
   "language": "python",
   "name": "python3"
  },
  "language_info": {
   "codemirror_mode": {
    "name": "ipython",
    "version": 3
   },
   "file_extension": ".py",
   "mimetype": "text/x-python",
   "name": "python",
   "nbconvert_exporter": "python",
   "pygments_lexer": "ipython3",
   "version": "3.12.3"
  }
 },
 "nbformat": 4,
 "nbformat_minor": 4
}
