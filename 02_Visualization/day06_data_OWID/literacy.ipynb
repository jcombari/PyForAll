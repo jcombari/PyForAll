{
 "cells": [
  {
   "cell_type": "code",
   "execution_count": null,
   "id": "f4df71d3-62f9-4338-8d87-770cd24bec1e",
   "metadata": {},
   "outputs": [],
   "source": []
  }
 ],
 "metadata": {
  "kernelspec": {
   "display_name": "",
   "name": ""
  },
  "language_info": {
   "name": ""
  }
 },
 "nbformat": 4,
 "nbformat_minor": 5
}
