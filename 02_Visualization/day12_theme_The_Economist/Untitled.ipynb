{
 "cells": [
  {
   "cell_type": "code",
   "execution_count": null,
   "id": "13854644-6a19-4ce9-a0a0-25053cd2b665",
   "metadata": {},
   "outputs": [],
   "source": []
  }
 ],
 "metadata": {
  "kernelspec": {
   "display_name": "",
   "name": ""
  },
  "language_info": {
   "name": ""
  }
 },
 "nbformat": 4,
 "nbformat_minor": 5
}
