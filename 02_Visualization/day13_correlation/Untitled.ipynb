{
 "cells": [
  {
   "cell_type": "code",
   "execution_count": null,
   "id": "d2492d4c-724f-4a24-bafd-bf297e6938d8",
   "metadata": {},
   "outputs": [],
   "source": []
  }
 ],
 "metadata": {
  "kernelspec": {
   "display_name": "",
   "name": ""
  },
  "language_info": {
   "name": ""
  }
 },
 "nbformat": 4,
 "nbformat_minor": 5
}
