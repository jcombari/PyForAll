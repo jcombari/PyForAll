{
 "cells": [
  {
   "cell_type": "code",
   "execution_count": 1,
   "id": "a493bf0f",
   "metadata": {},
   "outputs": [],
   "source": [
    "# Importing pandas for data manipulation\n",
    "import pandas as pd"
   ]
  },
  {
   "cell_type": "code",
   "execution_count": 2,
   "id": "89679cf1",
   "metadata": {},
   "outputs": [],
   "source": [
    "# Creating a sample dataset\n",
    "# A dictionary with customer purchases and their prices\n",
    "data = {'Customer': ['Alice', 'Bob', 'Charlie'], 'Purchase_Amount': [100, 200, 300]}"
   ]
  },
  {
   "cell_type": "code",
   "execution_count": 3,
   "id": "ce9db859",
   "metadata": {},
   "outputs": [],
   "source": [
    "# Converting the dictionary to a pandas DataFrame\n",
    "df = pd.DataFrame(data)"
   ]
  },
  {
   "cell_type": "code",
   "execution_count": 4,
   "id": "97d711e2",
   "metadata": {},
   "outputs": [],
   "source": [
    "# Adding a new column with VAT (Value Added Tax) calculated using a lambda function\n",
    "# VAT rate is assumed to be 15% (0.15)\n",
    "df['VAT'] = df['Purchase_Amount'].apply(lambda x: x * 0.15)"
   ]
  },
  {
   "cell_type": "code",
   "execution_count": 5,
   "id": "9ecd1302",
   "metadata": {},
   "outputs": [
    {
     "name": "stdout",
     "output_type": "stream",
     "text": [
      "  Customer  Purchase_Amount   VAT\n",
      "0    Alice              100  15.0\n",
      "1      Bob              200  30.0\n",
      "2  Charlie              300  45.0\n"
     ]
    }
   ],
   "source": [
    "# Printing the resulting DataFrame\n",
    "print(df)"
   ]
  },
  {
   "cell_type": "code",
   "execution_count": null,
   "id": "237fd762",
   "metadata": {},
   "outputs": [],
   "source": []
  }
 ],
 "metadata": {
  "kernelspec": {
   "display_name": "Python 3 (ipykernel)",
   "language": "python",
   "name": "python3"
  },
  "language_info": {
   "codemirror_mode": {
    "name": "ipython",
    "version": 3
   },
   "file_extension": ".py",
   "mimetype": "text/x-python",
   "name": "python",
   "nbconvert_exporter": "python",
   "pygments_lexer": "ipython3",
   "version": "3.9.7"
  }
 },
 "nbformat": 4,
 "nbformat_minor": 5
}
