{
 "cells": [
  {
   "cell_type": "code",
   "execution_count": 1,
   "id": "3ee401c9",
   "metadata": {},
   "outputs": [],
   "source": [
    "# Importing the necessary library\n",
    "import time"
   ]
  },
  {
   "cell_type": "code",
   "execution_count": 2,
   "id": "6ae654d1",
   "metadata": {},
   "outputs": [],
   "source": [
    "# Defining the decorator to measure execution time\n",
    "def timer_decorator(func):\n",
    "    def wrapper(*args, **kwargs):\n",
    "        # Record the start time\n",
    "        start_time = time.time()\n",
    "        result = func(*args, **kwargs)  # Execute the function\n",
    "        # Calculate execution time\n",
    "        end_time = time.time()\n",
    "        execution_time = end_time - start_time\n",
    "        print(f\"Function '{func.__name__}' executed in {execution_time:.4f} seconds.\")\n",
    "        return result\n",
    "    return wrapper"
   ]
  },
  {
   "cell_type": "code",
   "execution_count": 3,
   "id": "ca5b1d4c",
   "metadata": {},
   "outputs": [],
   "source": [
    "# Using the decorator on a sample function\n",
    "@timer_decorator\n",
    "def train_model(data):\n",
    "    # Simulating model training with a delay\n",
    "    print(\"Training model...\")\n",
    "    time.sleep(2)  # Simulate training time\n",
    "    print(\"Model trained successfully!\")\n",
    "    return \"Model Output\""
   ]
  },
  {
   "cell_type": "code",
   "execution_count": 4,
   "id": "891e3ada",
   "metadata": {},
   "outputs": [
    {
     "name": "stdout",
     "output_type": "stream",
     "text": [
      "Training model...\n",
      "Model trained successfully!\n",
      "Function 'train_model' executed in 2.0037 seconds.\n"
     ]
    },
    {
     "data": {
      "text/plain": [
       "'Model Output'"
      ]
     },
     "execution_count": 4,
     "metadata": {},
     "output_type": "execute_result"
    }
   ],
   "source": [
    "# Simulating a dataset and calling the function\n",
    "dataset = [1, 2, 3, 4, 5]  # Example dataset\n",
    "train_model(dataset)"
   ]
  }
 ],
 "metadata": {
  "kernelspec": {
   "display_name": "Python 3 (ipykernel)",
   "language": "python",
   "name": "python3"
  },
  "language_info": {
   "codemirror_mode": {
    "name": "ipython",
    "version": 3
   },
   "file_extension": ".py",
   "mimetype": "text/x-python",
   "name": "python",
   "nbconvert_exporter": "python",
   "pygments_lexer": "ipython3",
   "version": "3.9.7"
  }
 },
 "nbformat": 4,
 "nbformat_minor": 5
}
