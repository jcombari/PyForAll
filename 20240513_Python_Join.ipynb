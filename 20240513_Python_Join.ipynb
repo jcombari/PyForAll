{
 "cells": [
  {
   "cell_type": "code",
   "execution_count": 1,
   "id": "5ca953f3",
   "metadata": {},
   "outputs": [
    {
     "name": "stdout",
     "output_type": "stream",
     "text": [
      "Grouped Analysis:\n",
      "    class  embark_town  survival_rate  avg_fare_per_age\n",
      "0   First    Cherbourg       0.694118          3.202421\n",
      "1   First   Queenstown       0.500000          2.386364\n",
      "2   First  Southampton       0.582677          3.246506\n",
      "3  Second    Cherbourg       0.529412          3.156891\n",
      "4  Second   Queenstown       0.666667          0.314167\n",
      "5  Second  Southampton       0.463415          1.640745\n",
      "6   Third    Cherbourg       0.378788          2.245734\n",
      "7   Third   Queenstown       0.375000          0.847125\n",
      "8   Third  Southampton       0.189802          1.079096\n"
     ]
    }
   ],
   "source": [
    "# Import necessary libraries\n",
    "import pandas as pd\n",
    "import seaborn as sns\n",
    "\n",
    "# Load the Titanic dataset\n",
    "titanic = sns.load_dataset('titanic')\n",
    "\n",
    "# Split the dataset into smaller DataFrames for demonstration\n",
    "passenger_info = titanic[['sex', 'age', 'class', 'embark_town', 'survived']].copy()\n",
    "fare_info = titanic[['class', 'fare', 'embark_town']].copy()\n",
    "\n",
    "# Rename columns for clarity\n",
    "fare_info.rename(columns={'embark_town': 'town'}, inplace=True)\n",
    "\n",
    "# Merge datasets on common columns (class and embark_town)\n",
    "merged_data = pd.merge(passenger_info, fare_info, left_on=['class', 'embark_town'], right_on=['class', 'town'], how='inner')\n",
    "\n",
    "# Add a calculated column for analysis: Fare per Age\n",
    "merged_data['fare_per_age'] = merged_data['fare'] / (merged_data['age'].replace(0, 1))\n",
    "\n",
    "# Perform advanced groupby to analyze survival rates by class and town\n",
    "grouped_data = merged_data.groupby(['class', 'embark_town']) \\\n",
    "                          .agg({'survived': 'mean', 'fare_per_age': 'mean'}) \\\n",
    "                          .reset_index()\n",
    "\n",
    "# Rename columns for better readability\n",
    "grouped_data.rename(columns={'survived': 'survival_rate', 'fare_per_age': 'avg_fare_per_age'}, inplace=True)\n",
    "\n",
    "# Display the final DataFrame\n",
    "print(\"Grouped Analysis:\")\n",
    "print(grouped_data)\n"
   ]
  }
 ],
 "metadata": {
  "kernelspec": {
   "display_name": "Python 3 (ipykernel)",
   "language": "python",
   "name": "python3"
  },
  "language_info": {
   "codemirror_mode": {
    "name": "ipython",
    "version": 3
   },
   "file_extension": ".py",
   "mimetype": "text/x-python",
   "name": "python",
   "nbconvert_exporter": "python",
   "pygments_lexer": "ipython3",
   "version": "3.9.7"
  }
 },
 "nbformat": 4,
 "nbformat_minor": 5
}
