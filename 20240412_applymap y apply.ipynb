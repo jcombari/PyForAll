{
 "cells": [
  {
   "cell_type": "code",
   "execution_count": 1,
   "id": "882348b7",
   "metadata": {},
   "outputs": [
    {
     "name": "stdout",
     "output_type": "stream",
     "text": [
      "Original Data:\n",
      "   total_bill   tip     sex smoker  day    time  size\n",
      "0       16.99  1.01  Female     No  Sun  Dinner     2\n",
      "1       10.34  1.66    Male     No  Sun  Dinner     3\n",
      "2       21.01  3.50    Male     No  Sun  Dinner     3\n",
      "3       23.68  3.31    Male     No  Sun  Dinner     2\n",
      "4       24.59  3.61  Female     No  Sun  Dinner     4\n",
      "\n",
      "Transformed Data:\n",
      "   total_bill   tip     sex smoker  day    time  size  scaled_total_bill\n",
      "0       16.99  1.01  FEMALE     No  Sun  Dinner     2           0.291579\n",
      "1       10.34  1.66    MALE     No  Sun  Dinner     3           0.152283\n",
      "2       21.01  3.50    MALE     No  Sun  Dinner     3           0.375786\n",
      "3       23.68  3.31    MALE     No  Sun  Dinner     2           0.431713\n",
      "4       24.59  3.61  FEMALE     No  Sun  Dinner     4           0.450775\n",
      "\n",
      "Grouped Data (Average total_bill per sex):\n",
      "      sex  total_bill\n",
      "0    MALE   20.744076\n",
      "1  FEMALE   18.056897\n"
     ]
    }
   ],
   "source": [
    "# Importing necessary libraries\n",
    "import pandas as pd\n",
    "import seaborn as sns\n",
    "\n",
    "# Load the tips dataset from seaborn\n",
    "df = sns.load_dataset('tips')\n",
    "\n",
    "# Show the first few rows of the original dataset\n",
    "print(\"Original Data:\")\n",
    "print(df.head())\n",
    "\n",
    "# Step 1: Normalize the 'total_bill' column using apply\n",
    "# This will scale the 'total_bill' values between 0 and 1\n",
    "df['scaled_total_bill'] = df['total_bill'].apply(lambda x: (x - df['total_bill'].min()) / (df['total_bill'].max() - df['total_bill'].min()))\n",
    "\n",
    "# Step 2: Transform the 'sex' column to uppercase using apply\n",
    "# Convert the 'sex' values to uppercase to standardize the text\n",
    "df['sex'] = df['sex'].apply(lambda x: x.upper())\n",
    "\n",
    "# Show the transformed dataset\n",
    "print(\"\\nTransformed Data:\")\n",
    "print(df.head())\n",
    "\n",
    "# Step 3: Grouping by 'sex' and calculating the average 'total_bill' per group\n",
    "grouped_df = df.groupby('sex').agg({'total_bill': 'mean'}).reset_index()\n",
    "\n",
    "# Display the grouped data\n",
    "print(\"\\nGrouped Data (Average total_bill per sex):\")\n",
    "print(grouped_df.head())\n"
   ]
  }
 ],
 "metadata": {
  "kernelspec": {
   "display_name": "Python 3 (ipykernel)",
   "language": "python",
   "name": "python3"
  },
  "language_info": {
   "codemirror_mode": {
    "name": "ipython",
    "version": 3
   },
   "file_extension": ".py",
   "mimetype": "text/x-python",
   "name": "python",
   "nbconvert_exporter": "python",
   "pygments_lexer": "ipython3",
   "version": "3.9.7"
  }
 },
 "nbformat": 4,
 "nbformat_minor": 5
}
