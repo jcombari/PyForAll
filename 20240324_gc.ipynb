{
 "cells": [
  {
   "cell_type": "code",
   "execution_count": 1,
   "id": "21e57101",
   "metadata": {},
   "outputs": [
    {
     "name": "stdout",
     "output_type": "stream",
     "text": [
      "Memory usage after garbage collection: 8065\n"
     ]
    }
   ],
   "source": [
    "# Importing necessary libraries\n",
    "import gc\n",
    "import seaborn as sns\n",
    "import pandas as pd\n",
    "\n",
    "# Loading the 'tips' dataset from seaborn\n",
    "df = sns.load_dataset('tips')\n",
    "\n",
    "# Let's assume we're going to perform a big operation on the dataset\n",
    "# Here, we just simulate it by creating a new dataframe with some processing\n",
    "df_copy = df.copy()  # Simulating a large dataset by duplicating the data\n",
    "\n",
    "# Now, let's say we no longer need 'df_copy' and want to free up memory\n",
    "del df_copy  # Deleting the reference to the large dataset\n",
    "\n",
    "# At this point, the memory used by df_copy is not immediately released, \n",
    "# so we can explicitly call the garbage collector to free up memory\n",
    "gc.collect()  # Forces the garbage collector to release unused memory\n",
    "\n",
    "# Displaying the memory usage of the dataframe to show memory management\n",
    "print(\"Memory usage after garbage collection:\", df.memory_usage(deep=True).sum())\n"
   ]
  }
 ],
 "metadata": {
  "kernelspec": {
   "display_name": "Python 3 (ipykernel)",
   "language": "python",
   "name": "python3"
  },
  "language_info": {
   "codemirror_mode": {
    "name": "ipython",
    "version": 3
   },
   "file_extension": ".py",
   "mimetype": "text/x-python",
   "name": "python",
   "nbconvert_exporter": "python",
   "pygments_lexer": "ipython3",
   "version": "3.9.7"
  }
 },
 "nbformat": 4,
 "nbformat_minor": 5
}
