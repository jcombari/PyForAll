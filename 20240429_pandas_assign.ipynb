{
 "cells": [
  {
   "cell_type": "code",
   "execution_count": 1,
   "id": "afb4693b",
   "metadata": {},
   "outputs": [
    {
     "name": "stdout",
     "output_type": "stream",
     "text": [
      "   survived  pclass     sex   age  sibsp  parch     fare embarked  class  \\\n",
      "0         0       3    male  22.0      1      0   7.2500        S  Third   \n",
      "1         1       1  female  38.0      1      0  71.2833        C  First   \n",
      "2         1       3  female  26.0      0      0   7.9250        S  Third   \n",
      "3         1       1  female  35.0      1      0  53.1000        S  First   \n",
      "4         0       3    male  35.0      0      0   8.0500        S  Third   \n",
      "\n",
      "     who  adult_male deck  embark_town alive  alone age_group  survival_rate  \\\n",
      "0    man        True  NaN  Southampton    no  False     Youth       0.242363   \n",
      "1  woman       False    C    Cherbourg   yes  False     Adult       0.629630   \n",
      "2  woman       False  NaN  Southampton   yes   True     Youth       0.242363   \n",
      "3  woman       False    C  Southampton   yes  False     Youth       0.629630   \n",
      "4    man        True  NaN  Southampton    no   True     Youth       0.242363   \n",
      "\n",
      "   high_fare  \n",
      "0      False  \n",
      "1       True  \n",
      "2      False  \n",
      "3       True  \n",
      "4      False  \n"
     ]
    }
   ],
   "source": [
    "# Importing necessary libraries\n",
    "import seaborn as sns  # For accessing the Titanic dataset\n",
    "import pandas as pd  # For data manipulation and analysis\n",
    "\n",
    "# Loading the Titanic dataset from seaborn\n",
    "titanic = sns.load_dataset('titanic')\n",
    "\n",
    "# Using the assign method to create multiple columns in one line\n",
    "titanic = titanic.assign(\n",
    "    # Calculating age group\n",
    "    age_group=lambda df: pd.cut(df['age'], bins=[0, 18, 35, 50, 80], labels=[\"Child\", \"Youth\", \"Adult\", \"Senior\"]),\n",
    "    # Calculating survival rate for each class\n",
    "    survival_rate=lambda df: df.groupby('class')['survived'].transform('mean'),\n",
    "    # Indicating whether passengers paid above average fare\n",
    "    high_fare=lambda df: df['fare'] > df['fare'].mean()\n",
    ")\n",
    "\n",
    "# Displaying the first few rows of the modified DataFrame\n",
    "print(titanic.head())\n"
   ]
  }
 ],
 "metadata": {
  "kernelspec": {
   "display_name": "Python 3 (ipykernel)",
   "language": "python",
   "name": "python3"
  },
  "language_info": {
   "codemirror_mode": {
    "name": "ipython",
    "version": 3
   },
   "file_extension": ".py",
   "mimetype": "text/x-python",
   "name": "python",
   "nbconvert_exporter": "python",
   "pygments_lexer": "ipython3",
   "version": "3.9.7"
  }
 },
 "nbformat": 4,
 "nbformat_minor": 5
}
