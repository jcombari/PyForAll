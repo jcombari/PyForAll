{
 "cells": [
  {
   "cell_type": "code",
   "execution_count": 1,
   "id": "38a476e1",
   "metadata": {},
   "outputs": [],
   "source": [
    "# Importing necessary libraries\n",
    "import random"
   ]
  },
  {
   "cell_type": "code",
   "execution_count": 2,
   "id": "af994c92",
   "metadata": {},
   "outputs": [],
   "source": [
    "# Simulating model metrics\n",
    "precision = round(random.uniform(0.85, 0.95), 3)\n",
    "recall = round(random.uniform(0.80, 0.90), 3)\n",
    "f1_score = round(2 * (precision * recall) / (precision + recall), 3)"
   ]
  },
  {
   "cell_type": "code",
   "execution_count": 3,
   "id": "a2d15d6b",
   "metadata": {},
   "outputs": [
    {
     "name": "stdout",
     "output_type": "stream",
     "text": [
      "Model Evaluation Report:\n",
      "Precision: 87.2%\n",
      "Recall: 86.0%\n",
      "F1-Score: 86.6%\n"
     ]
    }
   ],
   "source": [
    "# Using f-strings to create a clear and elegant report\n",
    "print(f\"Model Evaluation Report:\")\n",
    "print(f\"Precision: {precision*100:.1f}%\")\n",
    "print(f\"Recall: {recall*100:.1f}%\")\n",
    "print(f\"F1-Score: {f1_score*100:.1f}%\")"
   ]
  },
  {
   "cell_type": "code",
   "execution_count": 4,
   "id": "bf5dcb69",
   "metadata": {},
   "outputs": [
    {
     "name": "stdout",
     "output_type": "stream",
     "text": [
      "\n",
      "Generated Email Report:\n",
      "Dear Team,\n",
      "\n",
      "The latest model evaluation results are as follows:\n",
      "- Precision: 87.2%\n",
      "- Recall: 86.0%\n",
      "- F1-Score: 86.6%\n",
      "\n",
      "Keep up the great work!\n",
      "\n"
     ]
    }
   ],
   "source": [
    "# Example for a business use case: email-ready report\n",
    "email_body = (\n",
    "    f\"Dear Team,\\n\\n\"\n",
    "    f\"The latest model evaluation results are as follows:\\n\"\n",
    "    f\"- Precision: {precision*100:.1f}%\\n\"\n",
    "    f\"- Recall: {recall*100:.1f}%\\n\"\n",
    "    f\"- F1-Score: {f1_score*100:.1f}%\\n\\n\"\n",
    "    f\"Keep up the great work!\\n\"\n",
    ")\n",
    "print(\"\\nGenerated Email Report:\")\n",
    "print(email_body)"
   ]
  }
 ],
 "metadata": {
  "kernelspec": {
   "display_name": "Python 3 (ipykernel)",
   "language": "python",
   "name": "python3"
  },
  "language_info": {
   "codemirror_mode": {
    "name": "ipython",
    "version": 3
   },
   "file_extension": ".py",
   "mimetype": "text/x-python",
   "name": "python",
   "nbconvert_exporter": "python",
   "pygments_lexer": "ipython3",
   "version": "3.9.7"
  }
 },
 "nbformat": 4,
 "nbformat_minor": 5
}
