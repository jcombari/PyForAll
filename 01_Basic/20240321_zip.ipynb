{
 "cells": [
  {
   "cell_type": "code",
   "execution_count": 1,
   "id": "7b1a1c6b",
   "metadata": {},
   "outputs": [
    {
     "name": "stdout",
     "output_type": "stream",
     "text": [
      "Average for Female - No: 2.7735185185185185\n",
      "Average for Male - No: 3.11340206185567\n",
      "Average for Male - Yes: 3.0511666666666666\n",
      "Average for Female - Yes: 2.931515151515151\n"
     ]
    }
   ],
   "source": [
    "import seaborn as sns\n",
    "\n",
    "# Load 'tips' dataset from Seaborn\n",
    "df = sns.load_dataset('tips')\n",
    "\n",
    "# Create lists for relevant columns\n",
    "sex_list = df['sex'].tolist()  \n",
    "smoker_list = df['smoker'].tolist()  \n",
    "tip_list = df['tip'].tolist()  \n",
    "\n",
    "# Use zip to combine the sex, smoker, and tip lists\n",
    "categories = zip(sex_list, smoker_list, tip_list)\n",
    "\n",
    "# Dictionary to store average results\n",
    "averages = {}\n",
    "\n",
    "# Loop through the combined categories and calculate the average\n",
    "for sex, smoker, tip in categories:\n",
    "    key = (sex, smoker)\n",
    "    if key not in averages:\n",
    "        averages[key] = []\n",
    "    averages[key].append(tip)\n",
    "\n",
    "# Calculate averages by group\n",
    "for key, tips in averages.items():\n",
    "    print(f\"Average for {key[0]} - {key[1]}: {sum(tips)/len(tips)}\")\n"
   ]
  }
 ],
 "metadata": {
  "kernelspec": {
   "display_name": "Python 3 (ipykernel)",
   "language": "python",
   "name": "python3"
  },
  "language_info": {
   "codemirror_mode": {
    "name": "ipython",
    "version": 3
   },
   "file_extension": ".py",
   "mimetype": "text/x-python",
   "name": "python",
   "nbconvert_exporter": "python",
   "pygments_lexer": "ipython3",
   "version": "3.9.7"
  }
 },
 "nbformat": 4,
 "nbformat_minor": 5
}
