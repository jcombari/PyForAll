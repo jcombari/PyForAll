{
 "cells": [
  {
   "cell_type": "code",
   "execution_count": 1,
   "id": "3405f02f",
   "metadata": {},
   "outputs": [
    {
     "name": "stdout",
     "output_type": "stream",
     "text": [
      "Category Statistics:\n",
      "   category_name  avg_price  avg_rating\n",
      "0      Clothing       75.0         4.4\n",
      "1   Electronics      999.5         4.6\n"
     ]
    }
   ],
   "source": [
    "import pandas as pd  \n",
    "import json  \n",
    "\n",
    "# Sample JSON data\n",
    "data = {\n",
    "    \"store\": {\n",
    "        \"categories\": [\n",
    "            {\"name\": \"Electronics\", \"products\": [{\"name\": \"Smartphone\", \"price\": 799, \"rating\": 4.5},\n",
    "                                                 {\"name\": \"Laptop\", \"price\": 1200, \"rating\": 4.7}]},\n",
    "            {\"name\": \"Clothing\", \"products\": [{\"name\": \"Jeans\", \"price\": 50, \"rating\": 4.0},\n",
    "                                              {\"name\": \"Jacket\", \"price\": 100, \"rating\": 4.8}]}\n",
    "        ],\n",
    "        \"location\": {\"city\": \"New York\", \"region\": \"North-East\"}\n",
    "    }\n",
    "}\n",
    "\n",
    "# Flatten JSON to a pandas DataFrame\n",
    "# json_normalize automatically handles nested structures\n",
    "df = pd.json_normalize(data['store']['categories'], \n",
    "                       record_path='products', \n",
    "                       meta=['name'], \n",
    "                       meta_prefix='category_')\n",
    "\n",
    "# Grouping by category and calculating aggregate metrics\n",
    "# Mean price and rating for each category\n",
    "category_stats = df.groupby('category_name').agg(\n",
    "    avg_price=('price', 'mean'),\n",
    "    avg_rating=('rating', 'mean')\n",
    ").reset_index()\n",
    "\n",
    "# Display the results\n",
    "print(\"Category Statistics:\\n\", category_stats)\n"
   ]
  }
 ],
 "metadata": {
  "kernelspec": {
   "display_name": "Python 3 (ipykernel)",
   "language": "python",
   "name": "python3"
  },
  "language_info": {
   "codemirror_mode": {
    "name": "ipython",
    "version": 3
   },
   "file_extension": ".py",
   "mimetype": "text/x-python",
   "name": "python",
   "nbconvert_exporter": "python",
   "pygments_lexer": "ipython3",
   "version": "3.9.7"
  }
 },
 "nbformat": 4,
 "nbformat_minor": 5
}
