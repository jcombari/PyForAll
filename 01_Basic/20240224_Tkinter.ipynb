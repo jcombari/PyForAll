{
 "cells": [
  {
   "cell_type": "code",
   "execution_count": 13,
   "id": "c56e2646",
   "metadata": {},
   "outputs": [],
   "source": [
    "import tkinter as tk  # Import the tkinter library for creating the GUI\n",
    "from tkinter import filedialog, ttk  # Import specific modules for file dialog and treeview widget\n",
    "import pandas as pd  # Import pandas for handling and displaying data in a dataframe"
   ]
  },
  {
   "cell_type": "code",
   "execution_count": 14,
   "id": "3437e3a5",
   "metadata": {},
   "outputs": [],
   "source": [
    "# Create the main application window\n",
    "root = tk.Tk()  # Create the main window of the application\n",
    "root.title(\"Interactive CSV Viewer\")  # Set the title of the application window\n",
    "root.geometry(\"900x650\")  # Set the size of the application window (900x650 pixels)\n",
    "root.configure(bg=\"#f0f4f8\")  # Set a soft background color for the window"
   ]
  },
  {
   "cell_type": "code",
   "execution_count": 15,
   "id": "b8fa5879",
   "metadata": {},
   "outputs": [],
   "source": [
    "# Initialize the dataframe\n",
    "data = pd.DataFrame()  # Create an empty DataFrame to hold the CSV data"
   ]
  },
  {
   "cell_type": "code",
   "execution_count": 16,
   "id": "1f8166b3",
   "metadata": {},
   "outputs": [],
   "source": [
    "# Function to load the CSV file\n",
    "def load_csv():  # Define a function to load the CSV file\n",
    "    global data  # Declare data as global to modify it inside the function\n",
    "    # Open file dialog to select a CSV file\n",
    "    file_path = filedialog.askopenfilename(filetypes=[(\"CSV files\", \"*.csv\")])  # Prompt user to select a CSV file\n",
    "    if file_path:  # If a file is selected\n",
    "        # Load the CSV into a DataFrame\n",
    "        data = pd.read_csv(file_path)  # Read the CSV file into the data DataFrame\n",
    "        \n",
    "        # Update the table to reflect the data\n",
    "        update_table()  # Call the function to update the table with the new data\n",
    "\n",
    "# Function to update the table with loaded data\n",
    "def update_table():  # Define a function to update the data table\n",
    "    # Clear existing data in the table\n",
    "    for row in treeview.get_children():  # Iterate through the current rows in the table\n",
    "        treeview.delete(row)  # Delete each row from the table\n",
    "    \n",
    "    # Add new columns based on the dataframe columns\n",
    "    treeview[\"columns\"] = data.columns.tolist()  # Set the table's columns to match the dataframe's columns\n",
    "    \n",
    "    # Remove the default first empty column (index column) and adjust its appearance\n",
    "    treeview[\"show\"] = \"headings\"  # Remove the first empty column (no more index column)\n",
    "    \n",
    "    # Add columns headers with a modern style\n",
    "    for col in data.columns:  # Iterate through each column in the dataframe\n",
    "        treeview.heading(col, text=col, anchor=\"w\", command=lambda c=col: sort_by_column(c, False))  # Set column headers with sorting functionality\n",
    "        treeview.column(col, width=100, anchor=\"w\", stretch=tk.NO)  # Adjust column width\n",
    "    \n",
    "    # Insert data into the table\n",
    "    for index, row in data.iterrows():  # Iterate through each row in the dataframe\n",
    "        treeview.insert(\"\", \"end\", values=row.tolist())  # Insert each row's data into the table\n",
    "\n",
    "# Function to sort the table when clicking on column headers\n",
    "def sort_by_column(col, reverse):  # Define a function to sort the table by a given column\n",
    "    data.sort_values(col, ascending=reverse, inplace=True)  # Sort the dataframe based on the selected column\n",
    "    update_table()  # Update the table to reflect the sorted data"
   ]
  },
  {
   "cell_type": "code",
   "execution_count": 17,
   "id": "fcd6262f",
   "metadata": {},
   "outputs": [],
   "source": [
    "# Header section with profile info and mission statement\n",
    "header_frame = tk.Frame(root, bg=\"#4A90E2\", pady=10)  # Create a frame for the header with a specific background color and padding\n",
    "header_frame.pack(fill=tk.X)  # Pack the header frame to fill the width of the window\n",
    "\n",
    "header_label = tk.Label(header_frame, text=\"Interactive CSV Viewer\", font=(\"Helvetica\", 24, \"bold\"), fg=\"white\", bg=\"#4A90E2\")  # Create a label for the title of the application\n",
    "header_label.pack()  # Pack the header label into the frame\n",
    "\n",
    "# Profile description section\n",
    "profile_label = tk.Label(header_frame, text=\"Science Communicator 🧠 | Data Scientist 💻 | Making technology accessible for all 🌍 | Passionate about transforming complexity into clarity 🤖\", \n",
    "                         font=(\"Helvetica\", 12), fg=\"white\", bg=\"#4A90E2\", wraplength=800)  # Create a label for the profile description\n",
    "profile_label.pack(pady=10)  # Pack the profile description label with some padding\n",
    "\n",
    "# Instruction label\n",
    "instruction_label = tk.Label(root, text=\"Load your CSV file to view data 📂\", font=(\"Helvetica\", 14), fg=\"#555\", bg=\"#f0f4f8\")  # Create a label for instructions\n",
    "instruction_label.pack(pady=10)  # Pack the instruction label with some padding\n",
    "\n",
    "# Button to load CSV file\n",
    "load_button = ttk.Button(root, text=\"Load CSV File\", command=load_csv, width=20)  # Create a button to load the CSV file\n",
    "load_button.pack(pady=20)  # Pack the button with some padding\n",
    "\n",
    "# Table section to display the data (no columns defined yet)\n",
    "treeview = ttk.Treeview(root, show=\"headings\", height=15)  # Create a Treeview widget to display the data with no default columns\n",
    "treeview.pack(pady=20, padx=10, expand=True)  # Pack the treeview widget with some padding and expand to fill the space\n",
    "\n",
    "# Customize the appearance of the table\n",
    "treeview.tag_configure('evenrow', background=\"#f4f6f9\")  # Configure a tag for even rows to have a light background color\n",
    "treeview.tag_configure('oddrow', background=\"#ffffff\")  # Configure a tag for odd rows to have a white background color\n",
    "\n",
    "# Apply styles to the table\n",
    "style = ttk.Style()  # Create a Style object to customize the appearance of the table\n",
    "style.configure(\"Treeview.Heading\", font=(\"Helvetica\", 12, \"bold\"), background=\"#4A90E2\", foreground=\"black\")  # Set the style for the table headers\n",
    "style.configure(\"Treeview\", font=(\"Helvetica\", 10), rowheight=30)  # Set the style for the table rows\n",
    "\n",
    "# Footer section with a nice touch\n",
    "footer_label = tk.Label(root, text=\"Built with ❤️ by Data Science Communicator\", font=(\"Helvetica\", 10), fg=\"#777\", bg=\"#f0f4f8\")  # Create a footer label\n",
    "footer_label.pack(side=tk.BOTTOM, pady=10)  # Pack the footer label at the bottom with some padding"
   ]
  },
  {
   "cell_type": "code",
   "execution_count": 18,
   "id": "a1634d08",
   "metadata": {},
   "outputs": [],
   "source": [
    "# Run the Tkinter main loop\n",
    "root.mainloop()  # Start the Tkinter event loop to run the application"
   ]
  }
 ],
 "metadata": {
  "kernelspec": {
   "display_name": "Python 3 (ipykernel)",
   "language": "python",
   "name": "python3"
  },
  "language_info": {
   "codemirror_mode": {
    "name": "ipython",
    "version": 3
   },
   "file_extension": ".py",
   "mimetype": "text/x-python",
   "name": "python",
   "nbconvert_exporter": "python",
   "pygments_lexer": "ipython3",
   "version": "3.9.7"
  }
 },
 "nbformat": 4,
 "nbformat_minor": 5
}
