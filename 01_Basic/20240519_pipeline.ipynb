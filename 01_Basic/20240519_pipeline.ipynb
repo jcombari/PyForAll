{
 "cells": [
  {
   "cell_type": "code",
   "execution_count": 1,
   "id": "451d0d6f",
   "metadata": {},
   "outputs": [
    {
     "name": "stdout",
     "output_type": "stream",
     "text": [
      "    day     sex  total_bill\n",
      "0  Thur    Male      561.44\n",
      "1  Thur  Female      534.89\n",
      "2   Fri    Male      198.57\n",
      "3   Fri  Female      127.31\n",
      "4   Sat    Male     1227.35\n",
      "5   Sat  Female      551.05\n",
      "6   Sun    Male     1269.46\n",
      "7   Sun  Female      357.70\n"
     ]
    }
   ],
   "source": [
    "import pandas as pd\n",
    "\n",
    "# 1. Load the sample dataset (we are using the 'tips' dataset from seaborn)\n",
    "from seaborn import load_dataset\n",
    "df = load_dataset('tips')\n",
    "\n",
    "# 2. Clean data: Remove any rows with missing values\n",
    "df_cleaned = df.dropna()\n",
    "\n",
    "# 3. Group data by 'day' and 'sex', then aggregate the 'total_bill' values\n",
    "result = (\n",
    "    df_cleaned\n",
    "    .pipe(lambda df: df.groupby(['day', 'sex'])['total_bill'].sum())  # Sum total bill for each group\n",
    "    .pipe(lambda grouped: grouped.reset_index())  # Reset the index for cleaner display\n",
    ")\n",
    "\n",
    "# 4. Display the result\n",
    "print(result)\n"
   ]
  }
 ],
 "metadata": {
  "kernelspec": {
   "display_name": "Python 3 (ipykernel)",
   "language": "python",
   "name": "python3"
  },
  "language_info": {
   "codemirror_mode": {
    "name": "ipython",
    "version": 3
   },
   "file_extension": ".py",
   "mimetype": "text/x-python",
   "name": "python",
   "nbconvert_exporter": "python",
   "pygments_lexer": "ipython3",
   "version": "3.9.7"
  }
 },
 "nbformat": 4,
 "nbformat_minor": 5
}
