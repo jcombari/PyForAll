{
 "cells": [
  {
   "cell_type": "code",
   "execution_count": 1,
   "id": "57aa3032",
   "metadata": {},
   "outputs": [
    {
     "name": "stdout",
     "output_type": "stream",
     "text": [
      "Column names in the dataset: Index(['Transaction ID', 'Date', 'Customer ID', 'Gender', 'Age',\n",
      "       'Product Category', 'Quantity', 'Price per Unit', 'Total Amount'],\n",
      "      dtype='object')\n",
      "All validations passed successfully. The dataset is ready for further analysis.\n"
     ]
    }
   ],
   "source": [
    "# Import necessary libraries\n",
    "import pandas as pd\n",
    "\n",
    "# Load the dataset\n",
    "data = pd.read_csv(\"retail_sales_dataset.csv\")\n",
    "\n",
    "# Clean column names to remove leading/trailing spaces and ensure consistency\n",
    "data.columns = data.columns.str.strip()\n",
    "\n",
    "# Display column names to verify the dataset structure\n",
    "print(\"Column names in the dataset:\", data.columns)\n",
    "\n",
    "# Ensure the required column 'Price per Unit' exists\n",
    "if 'Price per Unit' in data.columns:\n",
    "    # Validate that all prices are positive\n",
    "    assert (data['Price per Unit'] > 0).all(), \"Error: All prices must be positive.\"\n",
    "else:\n",
    "    print(\"Error: The column 'Price per Unit' is missing from the dataset. Please check your file.\")\n",
    "\n",
    "# Ensure the required column 'Quantity' exists\n",
    "if 'Quantity' in data.columns:\n",
    "    # Validate that all quantities are positive\n",
    "    assert (data['Quantity'] > 0).all(), \"Error: All quantities must be positive.\"\n",
    "else:\n",
    "    print(\"Error: The column 'Quantity' is missing from the dataset. Please check your file.\")\n",
    "\n",
    "# Print a success message if all validations pass\n",
    "print(\"All validations passed successfully. The dataset is ready for further analysis.\")\n"
   ]
  }
 ],
 "metadata": {
  "kernelspec": {
   "display_name": "Python 3 (ipykernel)",
   "language": "python",
   "name": "python3"
  },
  "language_info": {
   "codemirror_mode": {
    "name": "ipython",
    "version": 3
   },
   "file_extension": ".py",
   "mimetype": "text/x-python",
   "name": "python",
   "nbconvert_exporter": "python",
   "pygments_lexer": "ipython3",
   "version": "3.9.7"
  }
 },
 "nbformat": 4,
 "nbformat_minor": 5
}
