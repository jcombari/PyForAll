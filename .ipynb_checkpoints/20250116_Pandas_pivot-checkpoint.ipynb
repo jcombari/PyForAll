{
 "cells": [
  {
   "cell_type": "markdown",
   "id": "195d6409-037b-48ca-ac3c-454c57061339",
   "metadata": {},
   "source": [
    "# 🐍🐼 Python-Pandas: How does `pivot_table` help you handle missing data?\n",
    "\n",
    "### 🤔 Have you ever faced an incomplete dataset that seems impossible to analyze? You're not alone! In the world of data science, missing data is a common reality, but with the right tool, you can turn a challenge into an opportunity.\n",
    "\n",
    "✨ Today, we explore Pandas' `pivot_table` and how you can use the `fill_value` parameter to handle missing values effectively while creating dynamic summaries.\n",
    "\n",
    "### 🔎 What you’ll learn:\n",
    "☑️ How to use `pivot_table` to reorganize categorical data.\n",
    "☑️ How to fill missing data automatically with `fill_value`.\n",
    "☑️ A professional approach: here, we assign a simple statistical imputation value (in this case, 0) to illustrate how to perform imputation in code. In a real project, the value must be based on proper statistical analysis.\n",
    "\n",
    "### 🌟 Practical example:\n",
    "Imagine working with sales data. You have incomplete information about sales by region, category, and product. With `pivot_table`, you can:\n",
    "✅ Summarize sales by region and category.\n",
    "✅ Fill missing values with a default value.\n",
    "✅ Visualize the distribution in a stacked chart to support decision-making.\n",
    "\n",
    "### 📊 Visualization:\n",
    "This approach not only organizes your data but also facilitates strategic analysis. For instance, identify regions with low sales for a specific product and refine your market strategies.\n",
    "\n",
    "💬 How would you approach missing data in your daily work?\n",
    "\n",
    "🌐 Discover more about how programming simplifies complexity and follow me for more ideas that transform common problems into elegant solutions!\n",
    "\n",
    "📢 #datascience #ai #machinelearning #python #pandas #datavisualization #analytics\n",
    "\n",
    "---\n",
    "\n",
    "# 🐍🐼 Python-Pandas: ¿Cómo `pivot_table` puede ayudarte a manejar datos faltantes?\n",
    "\n",
    "### 🤔 ¿Alguna vez te has encontrado con un dataset incompleto que parece imposible de analizar? ¡No estás solo! En el mundo de la ciencia de datos, los datos faltantes son una realidad común, pero con la herramienta adecuada, puedes convertir un desafío en una oportunidad.\n",
    "\n",
    "✨ Hoy exploramos `pivot_table` de Pandas y cómo puedes usar el parámetro `fill_value` para manejar valores faltantes de manera efectiva mientras creas resúmenes dinámicos.\n",
    "\n",
    "### 🔎 Lo que aprenderás:\n",
    "☑️ Cómo usar `pivot_table` para reorganizar datos categóricos.\n",
    "☑️ Cómo rellenar datos faltantes automáticamente con `fill_value`.\n",
    "☑️ Un enfoque profesional: asignamos un valor de imputación estadística simple (en este caso, 0) solo para ilustrar cómo realizar la imputación a nivel de código. En un proyecto real, el valor debe basarse en un análisis estadístico adecuado.\n",
    "\n",
    "### 🌟 Ejemplo práctico:\n",
    "Imagina que trabajas con datos de ventas. Tienes información incompleta de ventas por región, categoría y producto. Con `pivot_table`, puedes:\n",
    "✅ Crear un resumen de ventas por región y categoría.\n",
    "✅ Completar los valores faltantes con un valor predeterminado.\n",
    "✅ Visualizar la distribución en un gráfico apilado que facilite la toma de decisiones.\n",
    "\n",
    "### 📊 Visualización:\n",
    "Este enfoque no solo organiza tus datos, sino que también facilita el análisis estratégico. Por ejemplo, identifica regiones con ventas bajas para un producto específico y mejora tus estrategias de mercado.\n",
    "\n",
    "💬 ¿Cómo abordarías un caso de datos faltantes en tu día a día?\n",
    "\n",
    "🌐 ¡Descubre más sobre cómo la programación puede simplificar la complejidad y sígueme para más ideas que transforman problemas comunes en soluciones elegantes!\n",
    "\n",
    "📢 #datascience #ai #machinelearning #python #pandas #datavisualization #analytics\n"
   ]
  },
  {
   "cell_type": "code",
   "execution_count": 2,
   "id": "b5004b6b-065d-41c2-bd04-df1df2253ea4",
   "metadata": {},
   "outputs": [
    {
     "name": "stdout",
     "output_type": "stream",
     "text": [
      "Original Dataset:\n",
      "  Region     Category     Product  Sales\n",
      "0  North  Electronics       Phone  200.0\n",
      "1  South  Electronics      Laptop  300.0\n",
      "2  North    Furniture       Chair    NaN\n",
      "3   East    Furniture       Table  150.0\n",
      "4   West    Furniture        Sofa  400.0\n",
      "5  South  Electronics          TV  250.0\n",
      "6   East    Furniture       Table    NaN\n",
      "7    NaN  Electronics  Headphones  100.0\n",
      "\n",
      "Pivot Table:\n",
      "Product             Chair  Laptop  Phone   Sofa     TV  Table\n",
      "Region Category                                              \n",
      "East   Furniture      0.0     0.0    0.0    0.0    0.0  150.0\n",
      "North  Electronics    0.0     0.0  200.0    0.0    0.0    0.0\n",
      "       Furniture      0.0     0.0    0.0    0.0    0.0    0.0\n",
      "South  Electronics    0.0   300.0    0.0    0.0  250.0    0.0\n",
      "West   Furniture      0.0     0.0    0.0  400.0    0.0    0.0\n"
     ]
    },
    {
     "data": {
      "image/png": "[encoded data removed]",
      "text/plain": [
       "<Figure size 720x432 with 1 Axes>"
      ]
     },
     "metadata": {
      "needs_background": "light"
     },
     "output_type": "display_data"
    }
   ],
   "source": [
    "# Import necessary libraries\n",
    "import pandas as pd\n",
    "import numpy as np\n",
    "import matplotlib.pyplot as plt\n",
    "\n",
    "# Sample dataset: Sales data with missing values\n",
    "data = {\n",
    "    \"Region\": [\"North\", \"South\", \"North\", \"East\", \"West\", \"South\", \"East\", np.nan],\n",
    "    \"Category\": [\"Electronics\", \"Electronics\", \"Furniture\", \"Furniture\", \"Furniture\", \"Electronics\", \"Furniture\", \"Electronics\"],\n",
    "    \"Product\": [\"Phone\", \"Laptop\", \"Chair\", \"Table\", \"Sofa\", \"TV\", \"Table\", \"Headphones\"],\n",
    "    \"Sales\": [200, 300, np.nan, 150, 400, 250, np.nan, 100],\n",
    "}\n",
    "\n",
    "# Create a DataFrame\n",
    "df = pd.DataFrame(data)\n",
    "\n",
    "# Display the original dataset\n",
    "print(\"Original Dataset:\")\n",
    "print(df)\n",
    "\n",
    "# Create a pivot table\n",
    "pivot = pd.pivot_table(\n",
    "    df,\n",
    "    values=\"Sales\",\n",
    "    index=[\"Region\", \"Category\"],\n",
    "    columns=\"Product\",\n",
    "    aggfunc=\"sum\",  # Use \"sum\" as a string to avoid warnings\n",
    "    fill_value=0,   # Filling missing values with 0 (illustrative purposes)\n",
    ")\n",
    "\n",
    "# Display the pivot table\n",
    "print(\"\\nPivot Table:\")\n",
    "print(pivot)\n",
    "\n",
    "# Plot the pivot table\n",
    "pivot.plot(kind=\"bar\", stacked=True, figsize=(10, 6))\n",
    "plt.title(\"Sales by Region and Category\")\n",
    "plt.ylabel(\"Sales\")\n",
    "plt.xlabel(\"Region & Category\")\n",
    "plt.legend(title=\"Product\")\n",
    "plt.tight_layout()\n",
    "plt.show()"
   ]
  }
 ],
 "metadata": {
  "kernelspec": {
   "display_name": "Python [conda env:.conda-project]",
   "language": "python",
   "name": "conda-env-.conda-project-py"
  },
  "language_info": {
   "codemirror_mode": {
    "name": "ipython",
    "version": 3
   },
   "file_extension": ".py",
   "mimetype": "text/x-python",
   "name": "python",
   "nbconvert_exporter": "python",
   "pygments_lexer": "ipython3",
   "version": "3.10.0"
  }
 },
 "nbformat": 4,
 "nbformat_minor": 5
}
