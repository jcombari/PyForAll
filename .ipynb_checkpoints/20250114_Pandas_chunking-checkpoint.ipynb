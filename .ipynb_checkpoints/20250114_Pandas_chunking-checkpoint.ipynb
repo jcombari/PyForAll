{
 "cells": [
  {
   "cell_type": "markdown",
   "id": "5e21e6a7-a651-4f0b-97ee-54c5afad80ca",
   "metadata": {},
   "source": [
    "# 🐍🐼 Python-Pandas: Speed Up Your Code with Chunking for Massive Data\n",
    "\n",
    "Have you ever wondered how to handle massive files without crashing your computer? 💻\n",
    "\n",
    "🌟 Here's the secret: **Chunking**. This technique allows you to read huge files in manageable pieces, avoiding memory overload!\n",
    "\n",
    "### 🎯 How does it work?\n",
    "Imagine a CSV file with millions of rows. Instead of loading it all at once (and freezing your machine), you can process it in chunks using the `chunksize` parameter in Pandas.\n",
    "\n",
    "### 📊 Practical example:\n",
    "Let’s use the built-in `titanic.csv` dataset, which includes data on Titanic passengers:  \n",
    "🛳️ Age, gender, and passenger class.  \n",
    "🎫 Fare paid and survival status.  \n",
    "With chunking, you can calculate stats like average fare per passenger class without consuming excessive memory.\n",
    "\n",
    "### 💡 Business impact:\n",
    "🔹 Optimize analysis on low-resource machines.  \n",
    "🔹 Handle real-world datasets in fields like finance, logistics, and marketing.\n",
    "\n",
    "### ❓ Reflection:\n",
    "How do you manage large datasets in your daily work? 🧐\n",
    "\n",
    "📈 Explore tools like Pandas to enhance your data analysis efficiency.  \n",
    "🚀 Make your data work for you, not against you.\n",
    "\n",
    "🌍✨ #Python #Pandas #DataScience #MachineLearning #GenerativeAI #ScienceCommunicator #TechForGood\n",
    "\n",
    "---\n",
    "\n",
    "# 🐍🐼 Python-Pandas: Acelera tu código con chunking en lectura de datos masivos\n",
    "\n",
    "¿Alguna vez te has preguntado cómo manejar archivos gigantes sin que tu computadora se congele? 💻\n",
    "\n",
    "🌟 Aquí tienes la clave: **Chunking**. Esta técnica permite leer archivos enormes en fragmentos manejables, ¡evitando sobrecargar la memoria!\n",
    "\n",
    "### 🎯 ¿Cómo funciona?\n",
    "Imagina que tienes un archivo CSV con millones de filas. En lugar de cargarlo todo de golpe (y colapsar tu equipo), puedes procesarlo por partes utilizando el parámetro `chunksize` en Pandas.\n",
    "\n",
    "### 📊 Ejemplo práctico:\n",
    "Tomemos como referencia el dataset integrado en Python, `titanic.csv`, que contiene datos sobre pasajeros del Titanic:\n",
    "🛳️ Edad, género y clase del pasajero.  \n",
    "🎫 Tarifas pagadas y sobrevivencia.  \n",
    "Con chunking, puedes calcular estadísticas como la tarifa promedio por clase de pasajeros sin usar más memoria de la necesaria.\n",
    "\n",
    "### 💡 Impacto en negocios:\n",
    "🔹 Optimiza análisis en máquinas con recursos limitados.  \n",
    "🔹 Maneja datasets reales en campos como finanzas, logística y marketing.\n",
    "\n",
    "### ❓ Reflexión:\n",
    "¿Cómo gestionarías grandes volúmenes de datos en tu día a día? 🧐\n",
    "\n",
    "📈 Sigue explorando herramientas como Pandas para mejorar tu eficiencia en análisis de datos.  \n",
    "🚀 Haz que tus datos trabajen para ti, no contra ti.\n",
    "\n",
    "🌍✨ #Python #Pandas #DataScience #MachineLearning #GenerativeAI #ScienceCommunicator #TechForGood\n"
   ]
  },
  {
   "cell_type": "code",
   "execution_count": 3,
   "id": "6f8439ca-209d-45b8-9a0c-05e33308c249",
   "metadata": {},
   "outputs": [
    {
     "name": "stdout",
     "output_type": "stream",
     "text": [
      "    class   fare_avg\n",
      "0   First  82.251829\n",
      "1  Second  20.793605\n",
      "2   Third  13.617216\n"
     ]
    },
    {
     "data": {
      "image/png": "[encoded data removed]",
      "text/plain": [
       "<Figure size 432x288 with 1 Axes>"
      ]
     },
     "metadata": {
      "needs_background": "light"
     },
     "output_type": "display_data"
    }
   ],
   "source": [
    "# Import necessary libraries\n",
    "import pandas as pd\n",
    "import seaborn as sns\n",
    "import matplotlib.pyplot as plt\n",
    "\n",
    "# Load the Titanic dataset using seaborn\n",
    "titanic = sns.load_dataset('titanic')\n",
    "\n",
    "# Set the chunk size (number of rows to process at a time)\n",
    "chunk_size = 100\n",
    "\n",
    "# Convert the dataset into CSV format and read it in chunks\n",
    "titanic.to_csv(\"titanic.csv\", index=False)  # Save the dataset to simulate a large file\n",
    "titanic_chunks = pd.read_csv(\"titanic.csv\", chunksize=chunk_size)\n",
    "\n",
    "# Initialize an empty list to store results\n",
    "results_list = []\n",
    "\n",
    "# Process each chunk\n",
    "for chunk in titanic_chunks:\n",
    "    # Group by passenger class and calculate the average fare for the chunk\n",
    "    chunk_result = chunk.groupby(\"class\")[\"fare\"].mean().reset_index()\n",
    "    chunk_result.columns = [\"class\", \"fare_avg\"]\n",
    "    \n",
    "    # Append the result to the list\n",
    "    results_list.append(chunk_result)\n",
    "\n",
    "# Combine all results into a single DataFrame\n",
    "class_fare_avg = pd.concat(results_list, ignore_index=True)\n",
    "\n",
    "# Calculate the overall average fare per class\n",
    "final_result = class_fare_avg.groupby(\"class\")[\"fare_avg\"].mean().reset_index()\n",
    "\n",
    "# Print the result\n",
    "print(final_result)\n",
    "\n",
    "# Visualization of the result\n",
    "plt.bar(final_result[\"class\"], final_result[\"fare_avg\"], color=[\"blue\", \"green\", \"orange\"])\n",
    "plt.xlabel(\"Passenger Class\")\n",
    "plt.ylabel(\"Average Fare\")\n",
    "plt.title(\"Average Fare by Passenger Class (Titanic)\")\n",
    "plt.show()\n"
   ]
  }
 ],
 "metadata": {
  "kernelspec": {
   "display_name": "Python [conda env:.conda-project]",
   "language": "python",
   "name": "conda-env-.conda-project-py"
  },
  "language_info": {
   "codemirror_mode": {
    "name": "ipython",
    "version": 3
   },
   "file_extension": ".py",
   "mimetype": "text/x-python",
   "name": "python",
   "nbconvert_exporter": "python",
   "pygments_lexer": "ipython3",
   "version": "3.10.0"
  }
 },
 "nbformat": 4,
 "nbformat_minor": 5
}
